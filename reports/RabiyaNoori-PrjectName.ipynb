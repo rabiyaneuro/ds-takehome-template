{
 "cells": [
  {
   "cell_type": "markdown",
   "metadata": {},
   "source": [
    "# ProjectName\n",
    "\n",
    "In this notebook, I give a summary of my analysis and thought process. My analysis can be divided into 5 main sections:\n",
    "\n",
    "1. [Define Problem](#1)\n",
    "2. [Data Pipeline](#2)\n",
    "3. [Model + Training](#3)\n",
    "4. [Analysing Results](#4)\n",
    "5. [Conclusion](#5)"
   ]
  },
  {
   "cell_type": "code",
   "execution_count": 2,
   "metadata": {},
   "outputs": [],
   "source": [
    "# SETUP\n",
    "\n",
    "#general imports\n",
    "import numpy as np\n",
    "import pandas as pd\n",
    "\n",
    "#model building imports\n",
    "from sklearn.model_selection import train_test_split\n",
    "from sklearn.linear_model import LogisticRegression\n",
    "from sklearn import metrics\n",
    "from sklearn import model_selection\n",
    "\n",
    "from keras.models import Sequential\n",
    "from keras.layers import Dense\n",
    "from keras.wrappers.scikit_learn import KerasClassifier\n",
    "\n",
    "#visualization imports\n",
    "import matplotlib.pyplot as plt\n",
    "%matplotlib inline\n",
    "import seaborn as sns"
   ]
  },
  {
   "cell_type": "markdown",
   "metadata": {},
   "source": [
    "# 1. Define Problem<a id='1'></a>\n",
    "\n",
    "- Goals: \n",
    "\n",
    "- Evaluation Metric:\n",
    "\n",
    "- FN vs FP: is either costly?"
   ]
  },
  {
   "cell_type": "markdown",
   "metadata": {},
   "source": [
    "# 2. Data Pipeline<a id='2'></a>\n",
    "\n",
    "(Initial data exploration can be found in notebooks/1.0-initial-data-exploration.ipynb)\n",
    "\n",
    "What kind of data is available?:\n",
    "\n",
    "How do you process the raw data into a form useful for your models?\n",
    "\n",
    "Will you have to do any featuring engineering or feature extraction?\n",
    "\n",
    "Does it need normalization?\n",
    "\n",
    "What to do with missing data?\n",
    "\n",
    "If there's class imbalance in the data, how do you plan on handling it?\n",
    "\n",
    "How to evaluate whether your train set and test set come from the same distribution, and what to do if they don't?\n",
    "\n",
    "If you have data of different types, say both texts, numbers, and images, how are you planning on combining them?\n",
    "\n",
    "What biases might represent in the data? How would you correct the biases?\n",
    "\n",
    "Category of the problem:\n",
    "Supervised vs Unsupervised\n",
    "Regression vs classification \n",
    "generation vs prediction"
   ]
  },
  {
   "cell_type": "markdown",
   "metadata": {},
   "source": []
  },
  {
   "cell_type": "markdown",
   "metadata": {},
   "source": [
    "# 3. Model + Training<a id='3'></a>"
   ]
  },
  {
   "cell_type": "markdown",
   "metadata": {},
   "source": [
    "Frame the question as a specific task, what is our model output?\n",
    "Start with simple model and build complexity\n"
   ]
  },
  {
   "cell_type": "markdown",
   "metadata": {},
   "source": [
    "Start simple like logistic regression, then get more complex like random forest of xgboost"
   ]
  },
  {
   "cell_type": "markdown",
   "metadata": {},
   "source": [
    "# 4. Analysing Results<a id='4'></a>"
   ]
  },
  {
   "cell_type": "code",
   "execution_count": null,
   "metadata": {},
   "outputs": [],
   "source": []
  },
  {
   "cell_type": "markdown",
   "metadata": {},
   "source": [
    "# 5. Conclusion<a id='5'></a>"
   ]
  },
  {
   "cell_type": "code",
   "execution_count": null,
   "metadata": {},
   "outputs": [],
   "source": []
  }
 ],
 "metadata": {
  "kernelspec": {
   "display_name": "Python [conda env:ds] *",
   "language": "python",
   "name": "conda-env-ds-py"
  },
  "language_info": {
   "codemirror_mode": {
    "name": "ipython",
    "version": 3
   },
   "file_extension": ".py",
   "mimetype": "text/x-python",
   "name": "python",
   "nbconvert_exporter": "python",
   "pygments_lexer": "ipython3",
   "version": "3.7.7"
  }
 },
 "nbformat": 4,
 "nbformat_minor": 4
}
